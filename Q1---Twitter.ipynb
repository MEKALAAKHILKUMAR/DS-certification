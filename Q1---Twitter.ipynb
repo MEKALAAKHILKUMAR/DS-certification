{
 "cells": [
  {
   "cell_type": "code",
   "execution_count": 35,
   "id": "f2d5cd94",
   "metadata": {},
   "outputs": [
    {
     "name": "stdout",
     "output_type": "stream",
     "text": [
      "Requirement already satisfied: python_twitter in c:\\users\\91628\\anaconda3\\lib\\site-packages (3.5)\n",
      "Requirement already satisfied: future in c:\\users\\91628\\anaconda3\\lib\\site-packages (from python_twitter) (0.18.2)\n",
      "Requirement already satisfied: requests in c:\\users\\91628\\anaconda3\\lib\\site-packages (from python_twitter) (2.28.1)\n",
      "Requirement already satisfied: requests-oauthlib in c:\\users\\91628\\anaconda3\\lib\\site-packages (from python_twitter) (1.3.1)\n",
      "Requirement already satisfied: charset-normalizer<3,>=2 in c:\\users\\91628\\anaconda3\\lib\\site-packages (from requests->python_twitter) (2.0.4)\n",
      "Requirement already satisfied: certifi>=2017.4.17 in c:\\users\\91628\\anaconda3\\lib\\site-packages (from requests->python_twitter) (2022.9.14)\n",
      "Requirement already satisfied: idna<4,>=2.5 in c:\\users\\91628\\anaconda3\\lib\\site-packages (from requests->python_twitter) (3.3)\n",
      "Requirement already satisfied: urllib3<1.27,>=1.21.1 in c:\\users\\91628\\anaconda3\\lib\\site-packages (from requests->python_twitter) (1.26.11)\n",
      "Requirement already satisfied: oauthlib>=3.0.0 in c:\\users\\91628\\anaconda3\\lib\\site-packages (from requests-oauthlib->python_twitter) (3.2.2)\n",
      "Note: you may need to restart the kernel to use updated packages.\n"
     ]
    }
   ],
   "source": [
    "pip install python_twitter"
   ]
  },
  {
   "cell_type": "code",
   "execution_count": 82,
   "id": "af15b89f",
   "metadata": {},
   "outputs": [
    {
     "name": "stdout",
     "output_type": "stream",
     "text": [
      "Requirement already satisfied: tweepy in c:\\users\\91628\\anaconda3\\lib\\site-packages (4.14.0)Note: you may need to restart the kernel to use updated packages.\n",
      "\n",
      "Requirement already satisfied: oauthlib<4,>=3.2.0 in c:\\users\\91628\\anaconda3\\lib\\site-packages (from tweepy) (3.2.2)\n",
      "Requirement already satisfied: requests<3,>=2.27.0 in c:\\users\\91628\\anaconda3\\lib\\site-packages (from tweepy) (2.28.1)\n",
      "Requirement already satisfied: requests-oauthlib<2,>=1.2.0 in c:\\users\\91628\\anaconda3\\lib\\site-packages (from tweepy) (1.3.1)\n",
      "Requirement already satisfied: idna<4,>=2.5 in c:\\users\\91628\\anaconda3\\lib\\site-packages (from requests<3,>=2.27.0->tweepy) (3.3)\n",
      "Requirement already satisfied: certifi>=2017.4.17 in c:\\users\\91628\\anaconda3\\lib\\site-packages (from requests<3,>=2.27.0->tweepy) (2022.9.14)\n",
      "Requirement already satisfied: urllib3<1.27,>=1.21.1 in c:\\users\\91628\\anaconda3\\lib\\site-packages (from requests<3,>=2.27.0->tweepy) (1.26.11)\n",
      "Requirement already satisfied: charset-normalizer<3,>=2 in c:\\users\\91628\\anaconda3\\lib\\site-packages (from requests<3,>=2.27.0->tweepy) (2.0.4)\n"
     ]
    }
   ],
   "source": [
    "pip install tweepy"
   ]
  },
  {
   "cell_type": "code",
   "execution_count": 85,
   "id": "80a33ba7",
   "metadata": {},
   "outputs": [],
   "source": [
    "import numpy as np\n",
    "import pandas as pd\n",
    "import tweepy\n",
    "import matplotlib.pyplot as plt\n",
    "import seaborn as sns\n",
    "import twitter\n"
   ]
  },
  {
   "cell_type": "code",
   "execution_count": 67,
   "id": "e5e1df07",
   "metadata": {},
   "outputs": [],
   "source": [
    "API_KEY = \"R3bHtesVnYzXdhM1FEtSLGzw1\"\n",
    "API_SECRET_KEY = \"YfCyfJAEv6LXcllpQCwa62KWxVARVwxqg00ljU4KvVW0gterQl\"\n",
    "ACCESS_TOKEN = \"1685673328890277889-gLPGZqmLEyEFp3lHdXuHZh0BCM0q6s\"\n",
    "ACCESS_TOKEN_SECRET = \"9XuOjH7gQRhv4mFwyzOILBI8L8leqPAwaPcqYhPX7ak7g\"\n"
   ]
  },
  {
   "cell_type": "code",
   "execution_count": 6,
   "id": "78d5e431",
   "metadata": {},
   "outputs": [],
   "source": []
  },
  {
   "cell_type": "code",
   "execution_count": 54,
   "id": "acee2e4a",
   "metadata": {},
   "outputs": [],
   "source": [
    "import twitter\n",
    "my_api = twitter.Api(consumer_key=API_KEY,\n",
    "                  consumer_secret=API_SECRET_KEY,\n",
    "                  access_token_key=ACCESS_TOKEN,\n",
    "                  access_token_secret=ACCESS_TOKEN_SECRET)\n"
   ]
  },
  {
   "cell_type": "code",
   "execution_count": null,
   "id": "08c83296",
   "metadata": {},
   "outputs": [],
   "source": [
    "auth = tweepy.OAuthHandler(API_KEY, API_SECRET_KEY)\n",
    "auth.set_access_token(ACCESS_TOKEN, ACCESS_TOKEN_SECRET)\n",
    "api = tweepy.API(auth)\n",
    "a= api.home_timeline()\n",
    "print(a)"
   ]
  },
  {
   "cell_type": "code",
   "execution_count": null,
   "id": "96bb1777",
   "metadata": {},
   "outputs": [],
   "source": []
  },
  {
   "cell_type": "code",
   "execution_count": 14,
   "id": "a934e7f1",
   "metadata": {},
   "outputs": [],
   "source": [
    "def authenticate():\n",
    "    auth = tweepy.OAuthHandler(API_KEY, API_SECRET_KEY)\n",
    "    auth.set_access_token(ACCESS_TOKEN, ACCESS_TOKEN_SECRET)\n",
    "    api = tweepy.API(auth)\n",
    "    return api\n"
   ]
  },
  {
   "cell_type": "code",
   "execution_count": 15,
   "id": "4c3eba4a",
   "metadata": {},
   "outputs": [],
   "source": [
    "def get_trending_topics(api):\n",
    "    india_woeid = 23424848\n",
    "    trending_topics = api.get_place_trends(id=india_woeid)\n",
    "    return [trend['name'] for trend in trending_topics[0]['trends'][:10]]\n"
   ]
  },
  {
   "cell_type": "code",
   "execution_count": 16,
   "id": "ee277d33",
   "metadata": {},
   "outputs": [],
   "source": [
    "def plot_trending_topics(trending_topics):\n",
    "    plt.figure(figsize=(10, 6))\n",
    "    plt.barh(range(10), trending_topics[::-1], color='skyblue')\n",
    "    plt.xlabel('Tweet Volume')\n",
    "    plt.ylabel('Trending Topics')\n",
    "    plt.title('Top 10 Twitter Trending Topics in India (Last 24 Hours)')\n",
    "    plt.gca().invert_yaxis() \n",
    "    plt.tight_layout()\n",
    "    plt.show()\n"
   ]
  },
  {
   "cell_type": "code",
   "execution_count": 17,
   "id": "54e5a713",
   "metadata": {},
   "outputs": [
    {
     "name": "stdout",
     "output_type": "stream",
     "text": [
      "Error: 403 Forbidden\n",
      "453 - You currently have access to a subset of Twitter API v2 endpoints and limited v1.1 endpoints (e.g. media post, oauth) only. If you need access to this endpoint, you may need a different access level. You can learn more here: https://developer.twitter.com/en/portal/product\n"
     ]
    }
   ],
   "source": [
    "def main():\n",
    "    try:\n",
    "        api = authenticate()\n",
    "        trending_topics = get_trending_topics(api)\n",
    "        plot_trending_topics(trending_topics)\n",
    "    except tweepy.TweepError as e:\n",
    "        print(f\"Error: {e}\")\n",
    "\n",
    "if _name_ == \"_main_\":\n",
    "    main()"
   ]
  },
  {
   "cell_type": "code",
   "execution_count": null,
   "id": "5d407117",
   "metadata": {},
   "outputs": [],
   "source": []
  },
  {
   "cell_type": "code",
   "execution_count": null,
   "id": "80bc9ce8",
   "metadata": {},
   "outputs": [],
   "source": []
  },
  {
   "cell_type": "code",
   "execution_count": null,
   "id": "297ccc3c",
   "metadata": {},
   "outputs": [],
   "source": []
  }
 ],
 "metadata": {
  "kernelspec": {
   "display_name": "Python 3 (ipykernel)",
   "language": "python",
   "name": "python3"
  },
  "language_info": {
   "codemirror_mode": {
    "name": "ipython",
    "version": 3
   },
   "file_extension": ".py",
   "mimetype": "text/x-python",
   "name": "python",
   "nbconvert_exporter": "python",
   "pygments_lexer": "ipython3",
   "version": "3.9.13"
  }
 },
 "nbformat": 4,
 "nbformat_minor": 5
}
